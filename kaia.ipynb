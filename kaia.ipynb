{
 "cells": [
  {
   "cell_type": "code",
   "execution_count": 31,
   "metadata": {},
   "outputs": [],
   "source": [
    "from dune_client.client import DuneClient\n",
    "dune = DuneClient(\"rVRuwpjjYaD1yXJAVH3dVZufZcESZK4E\")\n",
    "query_result = dune.get_latest_result(4818507)\n",
    "\n",
    "\n",
    "\n"
   ]
  },
  {
   "cell_type": "code",
   "execution_count": 33,
   "metadata": {},
   "outputs": [
    {
     "data": {
      "application/vnd.microsoft.datawrangler.viewer.v0+json": {
       "columns": [
        {
         "name": "index",
         "rawType": "int64",
         "type": "integer"
        },
        {
         "name": "cumulative_unique_addresses",
         "rawType": "int64",
         "type": "integer"
        },
        {
         "name": "transaction_day",
         "rawType": "datetime64[ns]",
         "type": "datetime"
        },
        {
         "name": "unique_addresses",
         "rawType": "int64",
         "type": "integer"
        }
       ],
       "conversionMethod": "pd.DataFrame",
       "ref": "e933dbe3-5863-4a58-9c07-386d31a47162",
       "rows": [
        [
         "0",
         "1",
         "2019-06-25 00:00:00",
         "1"
        ],
        [
         "1",
         "4",
         "2019-06-27 00:00:00",
         "3"
        ],
        [
         "2",
         "38",
         "2019-06-28 00:00:00",
         "34"
        ],
        [
         "3",
         "344",
         "2019-06-29 00:00:00",
         "306"
        ],
        [
         "4",
         "347",
         "2019-07-02 00:00:00",
         "3"
        ],
        [
         "5",
         "778",
         "2019-07-03 00:00:00",
         "431"
        ],
        [
         "6",
         "1309",
         "2019-07-04 00:00:00",
         "531"
        ],
        [
         "7",
         "2088",
         "2019-07-05 00:00:00",
         "779"
        ],
        [
         "8",
         "2723",
         "2019-07-06 00:00:00",
         "635"
        ],
        [
         "9",
         "3156",
         "2019-07-07 00:00:00",
         "433"
        ],
        [
         "10",
         "3802",
         "2019-07-08 00:00:00",
         "646"
        ],
        [
         "11",
         "4161",
         "2019-07-09 00:00:00",
         "359"
        ],
        [
         "12",
         "4691",
         "2019-07-10 00:00:00",
         "530"
        ],
        [
         "13",
         "5213",
         "2019-07-11 00:00:00",
         "522"
        ],
        [
         "14",
         "5664",
         "2019-07-12 00:00:00",
         "451"
        ],
        [
         "15",
         "6195",
         "2019-07-13 00:00:00",
         "531"
        ],
        [
         "16",
         "6747",
         "2019-07-14 00:00:00",
         "552"
        ],
        [
         "17",
         "7628",
         "2019-07-15 00:00:00",
         "881"
        ],
        [
         "18",
         "8723",
         "2019-07-16 00:00:00",
         "1095"
        ],
        [
         "19",
         "9833",
         "2019-07-17 00:00:00",
         "1110"
        ],
        [
         "20",
         "10847",
         "2019-07-18 00:00:00",
         "1014"
        ],
        [
         "21",
         "11952",
         "2019-07-19 00:00:00",
         "1105"
        ],
        [
         "22",
         "12927",
         "2019-07-20 00:00:00",
         "975"
        ],
        [
         "23",
         "13968",
         "2019-07-21 00:00:00",
         "1041"
        ],
        [
         "24",
         "14905",
         "2019-07-22 00:00:00",
         "937"
        ],
        [
         "25",
         "15790",
         "2019-07-23 00:00:00",
         "885"
        ],
        [
         "26",
         "16320",
         "2019-07-24 00:00:00",
         "530"
        ],
        [
         "27",
         "16423",
         "2019-07-25 00:00:00",
         "103"
        ],
        [
         "28",
         "16941",
         "2019-07-26 00:00:00",
         "518"
        ],
        [
         "29",
         "17767",
         "2019-07-27 00:00:00",
         "826"
        ],
        [
         "30",
         "18496",
         "2019-07-28 00:00:00",
         "729"
        ],
        [
         "31",
         "19354",
         "2019-07-29 00:00:00",
         "858"
        ],
        [
         "32",
         "20153",
         "2019-07-30 00:00:00",
         "799"
        ],
        [
         "33",
         "20974",
         "2019-07-31 00:00:00",
         "821"
        ],
        [
         "34",
         "21700",
         "2019-08-01 00:00:00",
         "726"
        ],
        [
         "35",
         "22271",
         "2019-08-02 00:00:00",
         "571"
        ],
        [
         "36",
         "22895",
         "2019-08-03 00:00:00",
         "624"
        ],
        [
         "37",
         "23552",
         "2019-08-04 00:00:00",
         "657"
        ],
        [
         "38",
         "24356",
         "2019-08-05 00:00:00",
         "804"
        ],
        [
         "39",
         "24976",
         "2019-08-06 00:00:00",
         "620"
        ],
        [
         "40",
         "26240",
         "2019-08-07 00:00:00",
         "1264"
        ],
        [
         "41",
         "27656",
         "2019-08-08 00:00:00",
         "1416"
        ],
        [
         "42",
         "28947",
         "2019-08-09 00:00:00",
         "1291"
        ],
        [
         "43",
         "29980",
         "2019-08-10 00:00:00",
         "1033"
        ],
        [
         "44",
         "31370",
         "2019-08-11 00:00:00",
         "1390"
        ],
        [
         "45",
         "32685",
         "2019-08-12 00:00:00",
         "1315"
        ],
        [
         "46",
         "33693",
         "2019-08-13 00:00:00",
         "1008"
        ],
        [
         "47",
         "34254",
         "2019-08-14 00:00:00",
         "561"
        ],
        [
         "48",
         "34499",
         "2019-08-15 00:00:00",
         "245"
        ],
        [
         "49",
         "34669",
         "2019-08-16 00:00:00",
         "170"
        ]
       ],
       "shape": {
        "columns": 3,
        "rows": 2084
       }
      },
      "text/html": [
       "<div>\n",
       "<style scoped>\n",
       "    .dataframe tbody tr th:only-of-type {\n",
       "        vertical-align: middle;\n",
       "    }\n",
       "\n",
       "    .dataframe tbody tr th {\n",
       "        vertical-align: top;\n",
       "    }\n",
       "\n",
       "    .dataframe thead th {\n",
       "        text-align: right;\n",
       "    }\n",
       "</style>\n",
       "<table border=\"1\" class=\"dataframe\">\n",
       "  <thead>\n",
       "    <tr style=\"text-align: right;\">\n",
       "      <th></th>\n",
       "      <th>cumulative_unique_addresses</th>\n",
       "      <th>transaction_day</th>\n",
       "      <th>unique_addresses</th>\n",
       "    </tr>\n",
       "  </thead>\n",
       "  <tbody>\n",
       "    <tr>\n",
       "      <th>0</th>\n",
       "      <td>1</td>\n",
       "      <td>2019-06-25</td>\n",
       "      <td>1</td>\n",
       "    </tr>\n",
       "    <tr>\n",
       "      <th>1</th>\n",
       "      <td>4</td>\n",
       "      <td>2019-06-27</td>\n",
       "      <td>3</td>\n",
       "    </tr>\n",
       "    <tr>\n",
       "      <th>2</th>\n",
       "      <td>38</td>\n",
       "      <td>2019-06-28</td>\n",
       "      <td>34</td>\n",
       "    </tr>\n",
       "    <tr>\n",
       "      <th>3</th>\n",
       "      <td>344</td>\n",
       "      <td>2019-06-29</td>\n",
       "      <td>306</td>\n",
       "    </tr>\n",
       "    <tr>\n",
       "      <th>4</th>\n",
       "      <td>347</td>\n",
       "      <td>2019-07-02</td>\n",
       "      <td>3</td>\n",
       "    </tr>\n",
       "    <tr>\n",
       "      <th>...</th>\n",
       "      <td>...</td>\n",
       "      <td>...</td>\n",
       "      <td>...</td>\n",
       "    </tr>\n",
       "    <tr>\n",
       "      <th>2079</th>\n",
       "      <td>57485457</td>\n",
       "      <td>2025-03-07</td>\n",
       "      <td>261986</td>\n",
       "    </tr>\n",
       "    <tr>\n",
       "      <th>2080</th>\n",
       "      <td>57711812</td>\n",
       "      <td>2025-03-08</td>\n",
       "      <td>226355</td>\n",
       "    </tr>\n",
       "    <tr>\n",
       "      <th>2081</th>\n",
       "      <td>57979394</td>\n",
       "      <td>2025-03-09</td>\n",
       "      <td>267582</td>\n",
       "    </tr>\n",
       "    <tr>\n",
       "      <th>2082</th>\n",
       "      <td>58306210</td>\n",
       "      <td>2025-03-10</td>\n",
       "      <td>326816</td>\n",
       "    </tr>\n",
       "    <tr>\n",
       "      <th>2083</th>\n",
       "      <td>58374973</td>\n",
       "      <td>2025-03-11</td>\n",
       "      <td>68763</td>\n",
       "    </tr>\n",
       "  </tbody>\n",
       "</table>\n",
       "<p>2084 rows × 3 columns</p>\n",
       "</div>"
      ],
      "text/plain": [
       "      cumulative_unique_addresses transaction_day  unique_addresses\n",
       "0                               1      2019-06-25                 1\n",
       "1                               4      2019-06-27                 3\n",
       "2                              38      2019-06-28                34\n",
       "3                             344      2019-06-29               306\n",
       "4                             347      2019-07-02                 3\n",
       "...                           ...             ...               ...\n",
       "2079                     57485457      2025-03-07            261986\n",
       "2080                     57711812      2025-03-08            226355\n",
       "2081                     57979394      2025-03-09            267582\n",
       "2082                     58306210      2025-03-10            326816\n",
       "2083                     58374973      2025-03-11             68763\n",
       "\n",
       "[2084 rows x 3 columns]"
      ]
     },
     "execution_count": 33,
     "metadata": {},
     "output_type": "execute_result"
    }
   ],
   "source": [
    "import pandas as pd\n",
    "# 提取 rows 数据\n",
    "rows = query_result.result.rows\n",
    "\n",
    "# 创建 DataFrame\n",
    "df = pd.DataFrame(rows)\n",
    "\n",
    "# 如果需要，将 transaction_date 列转换为 datetime 类型\n",
    "df['transaction_day'] = pd.to_datetime(df['transaction_day'])\n",
    "\n",
    "# 查看 DataFrame\n",
    "df"
   ]
  },
  {
   "cell_type": "code",
   "execution_count": 34,
   "metadata": {},
   "outputs": [],
   "source": [
    "df.to_csv('kaia.csv', index=False)\n"
   ]
  },
  {
   "cell_type": "code",
   "execution_count": 26,
   "metadata": {},
   "outputs": [
    {
     "name": "stdout",
     "output_type": "stream",
     "text": [
      "          date     open     high      low    close        volume\n",
      "0   2023-11-12  0.15000  0.16790  0.14350  0.16630  7.365046e+05\n",
      "1   2023-11-13  0.16660  0.19460  0.16220  0.16240  2.015526e+06\n",
      "2   2023-11-14  0.16210  0.16560  0.15260  0.16040  8.319437e+05\n",
      "3   2023-11-15  0.16050  0.17390  0.15900  0.17350  6.130684e+05\n",
      "4   2023-11-16  0.17350  0.17940  0.16670  0.17170  5.872530e+05\n",
      "..         ...      ...      ...      ...      ...           ...\n",
      "495 2025-03-21  0.10923  0.10982  0.10531  0.10608  2.344321e+06\n",
      "496 2025-03-22  0.10626  0.10884  0.10626  0.10811  2.550505e+06\n",
      "497 2025-03-23  0.10812  0.11222  0.10647  0.10732  2.233110e+06\n",
      "498 2025-03-24  0.10729  0.11100  0.10609  0.10991  2.590372e+06\n",
      "499 2025-03-25  0.10992  0.10993  0.10738  0.10824  1.838203e+06\n",
      "\n",
      "[500 rows x 6 columns]\n"
     ]
    }
   ],
   "source": [
    "import ccxt\n",
    "import pandas as pd\n",
    "import datetime\n",
    "\n",
    "def get_kaia_historical_prices():\n",
    "    # 初始化 Gate.io 交易所\n",
    "    exchange = ccxt.gateio()\n",
    "\n",
    "    # 设置交易对\n",
    "    symbol = 'KAIA/USDT'  # 假设以 USDT 计价\n",
    "\n",
    "    # 设置时间范围\n",
    "    days_to_fetch = 500  # 总共获取 90 天的数据\n",
    "    timeframe = '1d'  # 1天的时间框架\n",
    "    all_data = []\n",
    "    since = exchange.parse8601((datetime.datetime.now() - datetime.timedelta(days=days_to_fetch)).isoformat())\n",
    "\n",
    "    # 分批获取数据\n",
    "    while True:\n",
    "        ohlcv = exchange.fetch_ohlcv(symbol, timeframe, since)\n",
    "        if not ohlcv:\n",
    "            break  # 如果没有数据则退出\n",
    "\n",
    "        all_data.extend(ohlcv)  # 累积数据\n",
    "\n",
    "        # 更新 since 为最后一个数据的时间戳 + 1 毫秒\n",
    "        since = ohlcv[-1][0] + 1\n",
    "\n",
    "    # 将结果转换为 DataFrame\n",
    "    df = pd.DataFrame(all_data, columns=['timestamp', 'open', 'high', 'low', 'close', 'volume'])\n",
    "    df['date'] = pd.to_datetime(df['timestamp'], unit='ms')  # 转换时间戳为日期\n",
    "    df = df[['date', 'open', 'high', 'low', 'close', 'volume']]  # 重新排列列\n",
    "\n",
    "    # 去除重复日期\n",
    "    df = df.drop_duplicates(subset='date')\n",
    "\n",
    "    return df  # 返回 DataFrame\n",
    "\n",
    "# 调用函数并输出 DataFrame\n",
    "df = get_kaia_historical_prices()\n",
    "print(df)"
   ]
  },
  {
   "cell_type": "code",
   "execution_count": 27,
   "metadata": {},
   "outputs": [],
   "source": [
    "df.to_csv(\"kaia_price.csv\")"
   ]
  }
 ],
 "metadata": {
  "kernelspec": {
   "display_name": "Python 3",
   "language": "python",
   "name": "python3"
  },
  "language_info": {
   "codemirror_mode": {
    "name": "ipython",
    "version": 3
   },
   "file_extension": ".py",
   "mimetype": "text/x-python",
   "name": "python",
   "nbconvert_exporter": "python",
   "pygments_lexer": "ipython3",
   "version": "3.10.11"
  }
 },
 "nbformat": 4,
 "nbformat_minor": 2
}
